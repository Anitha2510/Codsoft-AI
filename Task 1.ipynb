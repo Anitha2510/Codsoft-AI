{
 "cells": [
  {
   "cell_type": "code",
   "execution_count": 6,
   "id": "088fe5f9",
   "metadata": {},
   "outputs": [
    {
     "name": "stdout",
     "output_type": "stream",
     "text": [
      "Chatbot: Hello! I'm your friendly chatbot. How can I assit you today?\n",
      "You:hi\n",
      "Chatbot: Hi there! How can I help you?\n",
      "You:how are you?\n",
      "Chatbot: I'm just a bot, but I'm doing great! How about you?\n",
      "You:i am fine\n",
      "Chatbot: Glad to hear that! How can I assist you today?\n",
      "You:your name\n",
      "Chatbot: I'm simple chatbot created to assist you!\n",
      "You:what can you do\n",
      "chatbot: I can chat with you, answer simple questions, and make you day better!\n",
      "You:who created you\n",
      "Chatbot: I was created by a developer who loves AI!\n",
      "You:what time is it\n",
      "Chatbot: The current time is 13:02:00\n",
      "You:what today's date\n",
      "Chatbot: Today's date is 05-03-25\n",
      "You:bye\n",
      "Chatbot: Goodbye! Have a wonderful day!\n"
     ]
    }
   ],
   "source": [
    "def chatbot():\n",
    "    print(\"Chatbot: Hello! I'm your friendly chatbot. How can I assit you today?\")\n",
    "    while True:\n",
    "        user_input=input('You:').lower()\n",
    "        if user_input in ['hi', 'hello', 'hey']:\n",
    "            print(\"Chatbot: Hi there! How can I help you?\")\n",
    "            \n",
    "        elif user_input in ['how are you?', 'how are you doing?']:\n",
    "            print(\"Chatbot: I'm just a bot, but I'm doing great! How about you?\")\n",
    "            \n",
    "        elif user_input in ['i am fine', 'i am good']:\n",
    "            print(\"Chatbot: Glad to hear that! How can I assist you today?\")\n",
    "            \n",
    "        elif user_input in ['your name']:\n",
    "            print(\"Chatbot: I'm simple chatbot created to assist you!\")\n",
    "            \n",
    "        elif user_input in ['what can you do']:\n",
    "            print(\"chatbot: I can chat with you, answer simple questions, and make you day better!\")\n",
    "            \n",
    "        elif user_input in ['who created you']:\n",
    "            print(\"Chatbot: I was created by a developer who loves AI!\")\n",
    "            \n",
    "        elif user_input in ['what time is it']:\n",
    "            from datetime import datetime\n",
    "            print(\"Chatbot: The current time is\", datetime.now().strftime(\"%H:%M:%S\"))\n",
    "            \n",
    "        elif user_input in [\"what today's date\"]:\n",
    "            print(\"Chatbot: Today's date is\", datetime.now().strftime(\"%d-%m-%y\"))\n",
    "            \n",
    "        elif user_input in ['bye','goodbye', 'exit']:\n",
    "            print(\"Chatbot: Goodbye! Have a wonderful day!\")\n",
    "            break\n",
    "        else:\n",
    "            print(\"Chatbot: I'm not sure how to respond to that. Can you try rephrasing?\")\n",
    "chatbot()"
   ]
  },
  {
   "cell_type": "code",
   "execution_count": null,
   "id": "be6b9698",
   "metadata": {},
   "outputs": [],
   "source": []
  }
 ],
 "metadata": {
  "kernelspec": {
   "display_name": "Python 3 (ipykernel)",
   "language": "python",
   "name": "python3"
  },
  "language_info": {
   "codemirror_mode": {
    "name": "ipython",
    "version": 3
   },
   "file_extension": ".py",
   "mimetype": "text/x-python",
   "name": "python",
   "nbconvert_exporter": "python",
   "pygments_lexer": "ipython3",
   "version": "3.11.5"
  }
 },
 "nbformat": 4,
 "nbformat_minor": 5
}
